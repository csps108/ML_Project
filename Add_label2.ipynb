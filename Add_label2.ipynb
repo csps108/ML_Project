{
 "cells": [
  {
   "cell_type": "markdown",
   "metadata": {},
   "source": [
    "# 根據論文要求，將Label 2的圖片增加\n",
    "* 數量後的數量跟論文不一樣，論文好像是增加到1440張，本Code只增加到13XX張\n",
    "# directory_name=Label 2資料夾路徑"
   ]
  },
  {
   "cell_type": "code",
   "execution_count": 1,
   "metadata": {
    "id": "u_UUy2pIBo2u"
   },
   "outputs": [],
   "source": [
    "from tensorflow.python.keras.preprocessing.image import ImageDataGenerator\n",
    "import matplotlib.pyplot as plt\n",
    "import numpy as np\n",
    "import cv2\n",
    "import os\n",
    "%matplotlib inline"
   ]
  },
  {
   "cell_type": "code",
   "execution_count": 2,
   "metadata": {
    "id": "5fJiQsl1Bo2v"
   },
   "outputs": [],
   "source": [
    "datagen = ImageDataGenerator(\n",
    "            rotation_range=0,\n",
    "            width_shift_range=0,\n",
    "            height_shift_range=0,\n",
    "            rescale=1./255,\n",
    "            shear_range=0,\n",
    "            zoom_range=0,\n",
    "            horizontal_flip=True,\n",
    "            vertical_flip =True,\n",
    "            fill_mode='nearest')"
   ]
  },
  {
   "cell_type": "code",
   "execution_count": 3,
   "metadata": {
    "id": "yfZHfHOwBo2v"
   },
   "outputs": [],
   "source": [
    "# this function is for read image,the input is directory name\n",
    "filename=[]\n",
    "def read_directory(directory_name):\n",
    "    # this loop is for read each image in this foder,directory_name is the foder name with images.\n",
    "    for name in os.listdir(r\"./\"+directory_name):\n",
    "        #print(filename) #just for test\n",
    "        #img is used to store the image data \n",
    "        #img = cv2.imread(directory_name + \"/\" + filename)\n",
    "        filename.append(name)"
   ]
  },
  {
   "cell_type": "code",
   "execution_count": 4,
   "metadata": {
    "id": "3O-A-8drBo2v"
   },
   "outputs": [],
   "source": [
    "read_directory(\"temp/2\")\n"
   ]
  },
  {
   "cell_type": "code",
   "execution_count": 5,
   "metadata": {
    "id": "8NPH8OfLBo2v",
    "outputId": "e4aeb49a-41b4-4b88-fac9-c72924b20c10"
   },
   "outputs": [
    {
     "data": {
      "text/plain": [
       "'001639a390f0.PNG'"
      ]
     },
     "execution_count": 5,
     "metadata": {},
     "output_type": "execute_result"
    }
   ],
   "source": [
    "filename[0]"
   ]
  },
  {
   "cell_type": "code",
   "execution_count": 6,
   "metadata": {
    "id": "2YYJugOsBo2w"
   },
   "outputs": [],
   "source": [
    "directory_name=\"./temp/2\""
   ]
  },
  {
   "cell_type": "code",
   "execution_count": 7,
   "metadata": {
    "id": "le4CRgJiBo2w"
   },
   "outputs": [],
   "source": [
    "import random\n",
    "for j in range(280):\n",
    "  k=random.randint(0,99)\n",
    "  img = cv2.imread(directory_name + \"/\" + filename[k])\n",
    "\n",
    "  img = cv2.cvtColor(img, cv2.COLOR_BGR2RGB)\n",
    "\n",
    "#格式必須為：(sample數, channels, height, width)\n",
    "\n",
    "  img = img.reshape((1,) + img.shape)\n",
    "  i = 0\n",
    "  for batch in datagen.flow(img, batch_size=1,save_to_dir='./temp/2'):\n",
    "    i=i+1\n",
    "    if i>2:\n",
    "        break"
   ]
  },
  {
   "cell_type": "code",
   "execution_count": null,
   "metadata": {
    "id": "dYEo9bf6Bo2w"
   },
   "outputs": [],
   "source": []
  }
 ],
 "metadata": {
  "colab": {
   "collapsed_sections": [],
   "name": "Add_label2.ipynb",
   "provenance": []
  },
  "kernelspec": {
   "display_name": "Python 3",
   "language": "python",
   "name": "python3"
  },
  "language_info": {
   "codemirror_mode": {
    "name": "ipython",
    "version": 3
   },
   "file_extension": ".py",
   "mimetype": "text/x-python",
   "name": "python",
   "nbconvert_exporter": "python",
   "pygments_lexer": "ipython3",
   "version": "3.7.3"
  }
 },
 "nbformat": 4,
 "nbformat_minor": 1
}
