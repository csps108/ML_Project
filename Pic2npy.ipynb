{
 "cells": [
  {
   "cell_type": "markdown",
   "metadata": {},
   "source": [
    "# 本Code將圖片轉為npy檔，並當作Input Data\n",
    "* Code路徑盡量要跟npy檔一樣"
   ]
  },
  {
   "cell_type": "code",
   "execution_count": 2,
   "metadata": {},
   "outputs": [
    {
     "name": "stdout",
     "output_type": "stream",
     "text": [
      "temp\\0\n",
      "images.shape=(1500, 224, 224, 3), labels_hot.shape==(1500,)\n",
      "0 files has been saved.\n",
      "temp\\1\n",
      "images.shape=(1369, 224, 224, 3), labels_hot.shape==(1369,)\n",
      "1 files has been saved.\n",
      "temp\\2\n",
      "images.shape=(1285, 224, 224, 3), labels_hot.shape==(1285,)\n",
      "2 files has been saved.\n"
     ]
    }
   ],
   "source": [
    "import os\n",
    "import glob\n",
    "import numpy as np\n",
    "from tensorflow.python.keras.preprocessing.image import  img_to_array, load_img\n",
    "from PIL import Image\n",
    "#%%\n",
    "dict_labels = {\"0\":0, \"1\":1,\"2\":2}\n",
    "size = (224,224) #由於原始資料影像大小不一，因此制定一個統一值\n",
    "nbofdata=1500   #從各個資料夾中抓取特定數量的檔案\n",
    "#%%\n",
    "for folders in glob.glob(\"temp/*\"): #路徑要改\n",
    "    print(folders)\n",
    "    images=[]\n",
    "    labels_hot=[]\n",
    "    labels=[]\n",
    "    nbofdata_i=1\n",
    "    for filename in os.listdir(folders):\n",
    "        if nbofdata_i <= nbofdata:\n",
    "                    label = os.path.basename(folders)\n",
    "                    className = np.asarray(label)\n",
    "                    img=load_img(os.path.join(folders,filename))\n",
    "                    img=img.resize(size,Image.BILINEAR)\n",
    "                    if img is not None:\n",
    "                        if label is not None:\n",
    "                            labels.append(className)\n",
    "                            labels_hot.append(dict_labels[label])\n",
    "                        x=img_to_array(img)\n",
    "                        images.append(x)\n",
    "                    nbofdata_i+=1\n",
    "    images=np.array(images)    \n",
    "    labels_hot=np.array(labels_hot)\n",
    "    print(\"images.shape={}, labels_hot.shape=={}\".format(images.shape, labels_hot.shape))    \n",
    "    imagesavepath='temp/'\n",
    "    if not os.path.exists(imagesavepath):\n",
    "        os.makedirs(imagesavepath)\n",
    "    np.save(imagesavepath+'{}_images.npy'.format(label),images)    \n",
    "    np.save(imagesavepath+'{}_label.npy'.format(label),labels)    \n",
    "    np.save(imagesavepath+'{}_labels_hot.npy'.format(label),labels_hot)\n",
    "    print('{} files has been saved.'.format(label))"
   ]
  },
  {
   "cell_type": "code",
   "execution_count": null,
   "metadata": {},
   "outputs": [],
   "source": []
  }
 ],
 "metadata": {
  "kernelspec": {
   "display_name": "Python 3",
   "language": "python",
   "name": "python3"
  },
  "language_info": {
   "codemirror_mode": {
    "name": "ipython",
    "version": 3
   },
   "file_extension": ".py",
   "mimetype": "text/x-python",
   "name": "python",
   "nbconvert_exporter": "python",
   "pygments_lexer": "ipython3",
   "version": "3.7.3"
  }
 },
 "nbformat": 4,
 "nbformat_minor": 2
}
