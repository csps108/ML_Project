{
 "cells": [
  {
   "cell_type": "markdown",
   "metadata": {},
   "source": [
    "# 此Code 用來將Dataset分為3個資料夾(0,1,2)\n",
    "* path_img=圖片(Dataset)路徑\n",
    "* train_labels=Label路徑(直接讀csv)"
   ]
  },
  {
   "cell_type": "code",
   "execution_count": 19,
   "metadata": {},
   "outputs": [
    {
     "name": "stdout",
     "output_type": "stream",
     "text": [
      "3662\n",
      "['000c1434d8d7' '001639a390f0' '0024cdab0c1e' ... 'ffcf7b45f213'\n",
      " 'ffd97f8cd5aa' 'ffec9a18a3ce']\n",
      "[1 2 1 ... 1 0 1]\n",
      "1805\n",
      "1369\n",
      "488\n"
     ]
    }
   ],
   "source": [
    "import os\n",
    "import shutil\n",
    "import numpy as np\n",
    "import pandas as pd\n",
    "path_img='C:\\Users\\Administrator\\Desktop\\yilin\\final\\train'\n",
    "ls = os.listdir(path_img)\n",
    "lenl=len(ls)\n",
    "print(len(ls))\n",
    " \n",
    "train_labels = pd.read_csv('C:\\Users\\Administrator\\Desktop\\yilin\\tzzs_data.csv')\n",
    "train_labels.head()\n",
    "labels = train_labels.diagnosis.values\n",
    "name = train_labels.id_code.values\n",
    "print(name)\n",
    "print(labels)\n",
    "a=0\n",
    "b=0\n",
    "c=0\n",
    "for i in range(lenl):\n",
    "    if labels[i]==0:\n",
    "        shutil.move(path_img+'/'+str(name[i]) + \".PNG\",\"C:\\Users\\Administrator\\Desktop\\yilin\\temp\\0\"+ str(name[i]) +\".PNG\")\n",
    "        a=a+1\n",
    "        \n",
    "    elif labels[i]==1:\n",
    "        shutil.move(path_img+'/'+str(name[i]) + \".PNG\",\"C:\\Users\\Administrator\\Desktop\\yilin\\temp\\1\"+ str(name[i]) +\".PNG\")\n",
    "        b=b+1\n",
    "        \n",
    "    else:\n",
    "        shutil.move(path_img+'/'+str(name[i]) + \".PNG\",\"C:\\\\Users\\\\Administrator\\Desktop\\yilin\\\\temp\\\\2\\\\\"+ str(name[i]) +\".PNG\")\n",
    "        c=c+1\n",
    "        \n",
    "print(a)\n",
    "print(b)\n",
    "print(c)"
   ]
  },
  {
   "cell_type": "code",
   "execution_count": null,
   "metadata": {},
   "outputs": [],
   "source": []
  }
 ],
 "metadata": {
  "kernelspec": {
   "display_name": "Python 3",
   "language": "python",
   "name": "python3"
  },
  "language_info": {
   "codemirror_mode": {
    "name": "ipython",
    "version": 3
   },
   "file_extension": ".py",
   "mimetype": "text/x-python",
   "name": "python",
   "nbconvert_exporter": "python",
   "pygments_lexer": "ipython3",
   "version": "3.7.3"
  }
 },
 "nbformat": 4,
 "nbformat_minor": 4
}
